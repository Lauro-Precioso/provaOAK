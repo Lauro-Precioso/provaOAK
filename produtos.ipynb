{
 "cells": [
  {
   "cell_type": "code",
   "execution_count": 3,
   "metadata": {},
   "outputs": [
    {
     "name": "stdout",
     "output_type": "stream",
     "text": [
      "Lista de produtos:\n",
      "Produto cadastrado com sucesso!\n",
      "Lista de produtos:\n",
      "Nome: produto 1\n",
      "Valor: R$10.0\n",
      "--------------------\n",
      "Produto cadastrado com sucesso!\n",
      "Lista de produtos:\n",
      "Nome: produto 1\n",
      "Valor: R$10.0\n",
      "--------------------\n",
      "Nome: produto 2\n",
      "Valor: R$20.0\n",
      "--------------------\n"
     ]
    }
   ],
   "source": [
    "produtos = []\n",
    "\n",
    "def cadastrar_produto():\n",
    "    nome = input(\"Digite o nome do produto: \")\n",
    "    descricao = input(\"Digite a descrição do produto: \")\n",
    "    valor = float(input(\"Digite o valor do produto: \"))\n",
    "    disponivel = input(\"O produto está disponível para venda? (sim/não): \")\n",
    "\n",
    "    produto = {\n",
    "        \"nome\": nome,\n",
    "        \"descricao\": descricao,\n",
    "        \"valor\": valor,\n",
    "        \"disponivel\": disponivel.lower() == \"sim\"\n",
    "    }\n",
    "\n",
    "    produtos.append(produto)\n",
    "    produtos.sort(key=lambda x: x[\"valor\"])\n",
    "\n",
    "    print(\"Produto cadastrado com sucesso!\")\n",
    "    listar_produtos()\n",
    "\n",
    "def listar_produtos():\n",
    "    print(\"Lista de produtos:\")\n",
    "    for produto in produtos:\n",
    "        print(f\"Nome: {produto['nome']}\")\n",
    "        print(f\"Valor: R${produto['valor']}\")\n",
    "        print(\"-\" * 20)\n",
    "\n",
    "    opcao = input(\"Digite 'sim' para cadastrar um novo produto ou 'não' para sair: \")\n",
    "    if opcao.lower() == \"sim\":\n",
    "        cadastrar_produto()\n",
    "\n",
    "# Execução inicial\n",
    "listar_produtos()"
   ]
  }
 ],
 "metadata": {
  "kernelspec": {
   "display_name": "Python 3 (ipykernel)",
   "language": "python",
   "name": "python3"
  },
  "language_info": {
   "codemirror_mode": {
    "name": "ipython",
    "version": 3
   },
   "file_extension": ".py",
   "mimetype": "text/x-python",
   "name": "python",
   "nbconvert_exporter": "python",
   "pygments_lexer": "ipython3",
   "version": "3.10.4"
  },
  "orig_nbformat": 4
 },
 "nbformat": 4,
 "nbformat_minor": 2
}
