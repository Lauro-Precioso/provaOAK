{
 "cells": [
  {
   "cell_type": "code",
   "execution_count": null,
   "metadata": {},
   "outputs": [],
   "source": [
    "produtos = []\n",
    "\n",
    "def cadastrar_produto():\n",
    "    nome = input(\"Digite o nome do produto: \")\n",
    "    descricao = input(\"Digite a descrição do produto: \")\n",
    "    valor = float(input(\"Digite o valor do produto: \"))\n",
    "    disponivel = input(\"O produto está disponível para venda? (sim/não): \")\n",
    "\n",
    "    produto = {\n",
    "        \"nome\": nome,\n",
    "        \"descricao\": descricao,\n",
    "        \"valor\": valor,\n",
    "        \"disponivel\": disponivel.lower() == \"sim\"\n",
    "    }\n",
    "\n",
    "    produtos.append(produto)\n",
    "    produtos.sort(key=lambda x: x[\"valor\"])\n",
    "\n",
    "    print(\"Produto cadastrado com sucesso!\")\n",
    "    listar_produtos()\n",
    "\n",
    "def listar_produtos():\n",
    "    print(\"Lista de produtos:\")\n",
    "    for produto in produtos:\n",
    "        print(f\"Nome: {produto['nome']}\")\n",
    "        print(f\"Valor: R${produto['valor']}\")\n",
    "        print(\"-\" * 20)\n",
    "\n",
    "    opcao = input(\"Digite 'sim' para cadastrar um novo produto ou 'não' para sair: \")\n",
    "    if opcao.lower() == \"sim\":\n",
    "        cadastrar_produto()\n",
    "\n",
    "# Execução inicial\n",
    "listar_produtos()"
   ]
  }
 ],
 "metadata": {
  "language_info": {
   "name": "python"
  },
  "orig_nbformat": 4
 },
 "nbformat": 4,
 "nbformat_minor": 2
}
